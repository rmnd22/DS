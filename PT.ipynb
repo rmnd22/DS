{
 "cells": [
  {
   "cell_type": "code",
   "execution_count": 6,
   "id": "2c47afd1-8770-4df2-99a9-52fb21a822b9",
   "metadata": {},
   "outputs": [],
   "source": [
    "# !pip3 install numpy pandas matplotlib seaborn scipy scikit-learn statsmodels"
   ]
  },
  {
   "cell_type": "code",
   "execution_count": 1,
   "id": "4a6bf06e-0dec-4861-b65d-74dd901d80b4",
   "metadata": {},
   "outputs": [],
   "source": [
    "import numpy as np\n",
    "import pandas as pd\n",
    "# Visualization\n",
    "import matplotlib.pyplot as plt\n",
    "import seaborn as sns\n",
    "# Statistical analysis\n",
    "import scipy.stats as stats\n",
    "import warnings\n",
    "warnings.filterwarnings(\"ignore\")\n"
   ]
  },
  {
   "cell_type": "code",
   "execution_count": 163,
   "id": "226923a4-33ee-48ea-8f3b-d1d00f430413",
   "metadata": {},
   "outputs": [],
   "source": [
    "productos = pd.read_csv(\"files/maestro_productos.csv\")\n",
    "clientes = pd.read_excel(\"files/maestro_clientes.xlsx\")\n",
    "proveedor1 = pd.read_csv(\"files/sellout-proveedor1.csv\", sep = \"|\")\n",
    "proveedor2 = pd.read_csv(\"files/sellout-proveedor2.csv\", sep = \"|\")"
   ]
  },
  {
   "cell_type": "markdown",
   "id": "7004d3b2-cd02-4aa2-949b-c8ede3b4d5d6",
   "metadata": {
    "jp-MarkdownHeadingCollapsed": true
   },
   "source": [
    "## Limpieza"
   ]
  },
  {
   "cell_type": "code",
   "execution_count": 166,
   "id": "fa93dd49-8d78-45f6-ad3d-a0f3e3336cbf",
   "metadata": {},
   "outputs": [
    {
     "name": "stdout",
     "output_type": "stream",
     "text": [
      "<class 'pandas.core.frame.DataFrame'>\n",
      "RangeIndex: 2452 entries, 0 to 2451\n",
      "Data columns (total 7 columns):\n",
      " #   Column         Non-Null Count  Dtype \n",
      "---  ------         --------------  ----- \n",
      " 0   Unnamed: 0     2452 non-null   int64 \n",
      " 1   NUM TDA        2452 non-null   int64 \n",
      " 2   NOMBRE DE TDA  2452 non-null   object\n",
      " 3   CADENA         2452 non-null   object\n",
      " 4   FORMATO        2452 non-null   object\n",
      " 5   ESTADO         2452 non-null   object\n",
      " 6   DIVISION       2452 non-null   object\n",
      "dtypes: int64(2), object(5)\n",
      "memory usage: 134.2+ KB\n",
      "<class 'pandas.core.frame.DataFrame'>\n",
      "RangeIndex: 1242 entries, 0 to 1241\n",
      "Data columns (total 5 columns):\n",
      " #   Column           Non-Null Count  Dtype \n",
      "---  ------           --------------  ----- \n",
      " 0   Unnamed: 0       1242 non-null   int64 \n",
      " 1   Sku              1242 non-null   int64 \n",
      " 2   Sku_Description  1242 non-null   object\n",
      " 3   Sku_Category     1242 non-null   object\n",
      " 4   Sku_Subcategory  1242 non-null   object\n",
      "dtypes: int64(2), object(3)\n",
      "memory usage: 48.6+ KB\n",
      "<class 'pandas.core.frame.DataFrame'>\n",
      "RangeIndex: 1206365 entries, 0 to 1206364\n",
      "Data columns (total 5 columns):\n",
      " #   Column    Non-Null Count    Dtype  \n",
      "---  ------    --------------    -----  \n",
      " 0   Sku       1206365 non-null  int64  \n",
      " 1   Date      1206365 non-null  object \n",
      " 2   Store_Id  1206365 non-null  int64  \n",
      " 3   Units     1206365 non-null  float64\n",
      " 4   Price     1206365 non-null  float64\n",
      "dtypes: float64(2), int64(2), object(1)\n",
      "memory usage: 46.0+ MB\n",
      "<class 'pandas.core.frame.DataFrame'>\n",
      "RangeIndex: 4862029 entries, 0 to 4862028\n",
      "Data columns (total 5 columns):\n",
      " #   Column    Dtype  \n",
      "---  ------    -----  \n",
      " 0   Sku       int64  \n",
      " 1   Date      object \n",
      " 2   Store_Id  int64  \n",
      " 3   Pieces    float64\n",
      " 4   Price     object \n",
      "dtypes: float64(1), int64(2), object(2)\n",
      "memory usage: 185.5+ MB\n",
      "None None None None\n"
     ]
    }
   ],
   "source": [
    "print(clientes.info(), productos.info(), proveedor1.info(), proveedor2.info())\n",
    "# print(proveedor2.isnull().sum())"
   ]
  },
  {
   "cell_type": "code",
   "execution_count": 167,
   "id": "bbf35424-c910-4360-a53e-3fa523b4f87c",
   "metadata": {},
   "outputs": [
    {
     "name": "stdout",
     "output_type": "stream",
     "text": [
      "   Unnamed: 0  NUM TDA              NOMBRE DE TDA       CADENA FORMATO  \\\n",
      "0           0        2  Bloody Sea Green BookShop  proveedor_1    Shop   \n",
      "1           1        4  Funny Sky Blue GipsyTrade  proveedor_1    Shop   \n",
      "2           2        5      Rare Green Laundrette  proveedor_1    Shop   \n",
      "3           3        6        Angry Indigo Center  proveedor_1    Shop   \n",
      "4           4        7           Tall Violet Deli  proveedor_1    Shop   \n",
      "\n",
      "    ESTADO DIVISION  \n",
      "0  Coalmar  SURESTE  \n",
      "1  Coalmar  SURESTE  \n",
      "2  Coalmar  SURESTE  \n",
      "3  Coalmar  SURESTE  \n",
      "4  Coalmar  SURESTE  \n"
     ]
    }
   ],
   "source": [
    "print(clientes.head())"
   ]
  },
  {
   "cell_type": "code",
   "execution_count": 168,
   "id": "718c929b-e2a8-48d4-a191-17f55612343a",
   "metadata": {},
   "outputs": [
    {
     "name": "stdout",
     "output_type": "stream",
     "text": [
      "['proveedor_1' 'proveedor_2'] \n",
      " ['SURESTE' 'SUROESTE' 'PENÍNSULA' 'CENTRO' 'METRO-NORTE' 'BAJÍO'\n",
      " 'OCCIDENTE' 'CENTRO-SUR' 'METRO-SUR' 'NOROESTE' 'NORESTE'] \n",
      " ['Shop' 'Mall' 'GreatShop' 'Grocery' 'AllInOne' 'Leftorium' 'GipsyTrade'\n",
      " 'SmallShop' 'TinyShop' 'BigCom' 'HighShop' 'SuperMarket' 'Center']\n"
     ]
    }
   ],
   "source": [
    "print(\n",
    "clientes['CADENA'].unique(),\"\\n\",\n",
    "clientes['DIVISION'].unique(),\"\\n\",\n",
    "clientes['FORMATO'].unique()\n",
    ")"
   ]
  },
  {
   "cell_type": "markdown",
   "id": "afd74745-d9d9-45c0-947e-ecb45b6c05bf",
   "metadata": {},
   "source": [
    "#### Observaciones clientes\n",
    "\n",
    "Me aseguré de que en las columnas que parecían clasificatorias no hubiera algún error que clasificara mal a las observaciones, \n",
    "por ejemplo, alguna letra de más, una minúscula en vez de mayúscula etc.\n",
    "Parece que la primer columna es un índice tal vez generado para ellos en su archivo excel"
   ]
  },
  {
   "cell_type": "code",
   "execution_count": 169,
   "id": "7056c8c5-8f29-4934-ba03-6b0299265462",
   "metadata": {},
   "outputs": [
    {
     "data": {
      "text/plain": [
       "False"
      ]
     },
     "execution_count": 169,
     "metadata": {},
     "output_type": "execute_result"
    }
   ],
   "source": [
    "set(clientes.iloc[:, 0].dropna().astype(int)) == set(clientes['NUM TDA'].dropna().astype(int))"
   ]
  },
  {
   "cell_type": "raw",
   "id": "ad06262d-6d3c-4a4d-8eab-88a805bb28bf",
   "metadata": {},
   "source": [
    "Al parecer la primer columna es como un contador de registros mientras que en 'NUM TDA' parece haber valores repetidos "
   ]
  },
  {
   "cell_type": "code",
   "execution_count": 170,
   "id": "591e10b2-afd1-4077-bd53-75d3859823d7",
   "metadata": {},
   "outputs": [
    {
     "data": {
      "text/html": [
       "<div>\n",
       "<style scoped>\n",
       "    .dataframe tbody tr th:only-of-type {\n",
       "        vertical-align: middle;\n",
       "    }\n",
       "\n",
       "    .dataframe tbody tr th {\n",
       "        vertical-align: top;\n",
       "    }\n",
       "\n",
       "    .dataframe thead th {\n",
       "        text-align: right;\n",
       "    }\n",
       "</style>\n",
       "<table border=\"1\" class=\"dataframe\">\n",
       "  <thead>\n",
       "    <tr style=\"text-align: right;\">\n",
       "      <th></th>\n",
       "      <th>Unnamed: 0</th>\n",
       "      <th>NUM TDA</th>\n",
       "      <th>NOMBRE DE TDA</th>\n",
       "      <th>CADENA</th>\n",
       "      <th>FORMATO</th>\n",
       "      <th>ESTADO</th>\n",
       "      <th>DIVISION</th>\n",
       "    </tr>\n",
       "  </thead>\n",
       "  <tbody>\n",
       "    <tr>\n",
       "      <th>50</th>\n",
       "      <td>50</td>\n",
       "      <td>58</td>\n",
       "      <td>Aquamarine Florist</td>\n",
       "      <td>proveedor_1</td>\n",
       "      <td>Shop</td>\n",
       "      <td>Mamoval</td>\n",
       "      <td>PENÍNSULA</td>\n",
       "    </tr>\n",
       "    <tr>\n",
       "      <th>2415</th>\n",
       "      <td>2415</td>\n",
       "      <td>58</td>\n",
       "      <td>Aquamarine Florist</td>\n",
       "      <td>proveedor_2</td>\n",
       "      <td>AllInOne</td>\n",
       "      <td>Marcotho</td>\n",
       "      <td>BAJÍO</td>\n",
       "    </tr>\n",
       "    <tr>\n",
       "      <th>115</th>\n",
       "      <td>115</td>\n",
       "      <td>143</td>\n",
       "      <td>Empty Turquoise Baker</td>\n",
       "      <td>proveedor_1</td>\n",
       "      <td>Shop</td>\n",
       "      <td>Egusgul</td>\n",
       "      <td>NOROESTE</td>\n",
       "    </tr>\n",
       "    <tr>\n",
       "      <th>235</th>\n",
       "      <td>235</td>\n",
       "      <td>143</td>\n",
       "      <td>Empty Turquoise Baker</td>\n",
       "      <td>proveedor_1</td>\n",
       "      <td>Shop</td>\n",
       "      <td>Nabargus</td>\n",
       "      <td>OCCIDENTE</td>\n",
       "    </tr>\n",
       "    <tr>\n",
       "      <th>151</th>\n",
       "      <td>151</td>\n",
       "      <td>240</td>\n",
       "      <td>Dull Navy BookShop</td>\n",
       "      <td>proveedor_1</td>\n",
       "      <td>Shop</td>\n",
       "      <td>Alloralf</td>\n",
       "      <td>METRO-SUR</td>\n",
       "    </tr>\n",
       "    <tr>\n",
       "      <th>2430</th>\n",
       "      <td>2430</td>\n",
       "      <td>240</td>\n",
       "      <td>Dull Navy BookShop</td>\n",
       "      <td>proveedor_2</td>\n",
       "      <td>TinyShop</td>\n",
       "      <td>Alloralf</td>\n",
       "      <td>METRO-NORTE</td>\n",
       "    </tr>\n",
       "    <tr>\n",
       "      <th>2409</th>\n",
       "      <td>2409</td>\n",
       "      <td>2568</td>\n",
       "      <td>Impressive Coral BigCom</td>\n",
       "      <td>proveedor_2</td>\n",
       "      <td>Grocery</td>\n",
       "      <td>Mobartho</td>\n",
       "      <td>PENÍNSULA</td>\n",
       "    </tr>\n",
       "    <tr>\n",
       "      <th>2422</th>\n",
       "      <td>2422</td>\n",
       "      <td>2568</td>\n",
       "      <td>Impressive Coral BigCom</td>\n",
       "      <td>proveedor_2</td>\n",
       "      <td>Grocery</td>\n",
       "      <td>Mobartho</td>\n",
       "      <td>PENÍNSULA</td>\n",
       "    </tr>\n",
       "  </tbody>\n",
       "</table>\n",
       "</div>"
      ],
      "text/plain": [
       "      Unnamed: 0  NUM TDA            NOMBRE DE TDA       CADENA   FORMATO  \\\n",
       "50            50       58       Aquamarine Florist  proveedor_1      Shop   \n",
       "2415        2415       58       Aquamarine Florist  proveedor_2  AllInOne   \n",
       "115          115      143    Empty Turquoise Baker  proveedor_1      Shop   \n",
       "235          235      143    Empty Turquoise Baker  proveedor_1      Shop   \n",
       "151          151      240       Dull Navy BookShop  proveedor_1      Shop   \n",
       "2430        2430      240       Dull Navy BookShop  proveedor_2  TinyShop   \n",
       "2409        2409     2568  Impressive Coral BigCom  proveedor_2   Grocery   \n",
       "2422        2422     2568  Impressive Coral BigCom  proveedor_2   Grocery   \n",
       "\n",
       "        ESTADO     DIVISION  \n",
       "50     Mamoval    PENÍNSULA  \n",
       "2415  Marcotho        BAJÍO  \n",
       "115    Egusgul     NOROESTE  \n",
       "235   Nabargus    OCCIDENTE  \n",
       "151   Alloralf    METRO-SUR  \n",
       "2430  Alloralf  METRO-NORTE  \n",
       "2409  Mobartho    PENÍNSULA  \n",
       "2422  Mobartho    PENÍNSULA  "
      ]
     },
     "execution_count": 170,
     "metadata": {},
     "output_type": "execute_result"
    }
   ],
   "source": [
    "repetidos = clientes['NUM TDA'].value_counts()\n",
    "repetidos = repetidos[repetidos > 1]\n",
    "clientes[clientes['NUM TDA'].isin(repetidos.index.to_list())].sort_values(by='NUM TDA')\n"
   ]
  },
  {
   "cell_type": "raw",
   "id": "eff0bd7b-00fe-4a44-9954-b6c0fca67ef5",
   "metadata": {},
   "source": [
    "En vez de eliminar directamente los duplicados de 'NUM TDA' fue buena idea analizar la razón de que hubieran duplicados en esa\n",
    "columna. Al parecer esto sucede cuando la misma tienda tiene más de un proveedor y cuando existe más de una franquicia."
   ]
  },
  {
   "cell_type": "code",
   "execution_count": 171,
   "id": "1f870710-2ca1-490d-92bf-67bed32dffa5",
   "metadata": {},
   "outputs": [
    {
     "data": {
      "text/html": [
       "<div>\n",
       "<style scoped>\n",
       "    .dataframe tbody tr th:only-of-type {\n",
       "        vertical-align: middle;\n",
       "    }\n",
       "\n",
       "    .dataframe tbody tr th {\n",
       "        vertical-align: top;\n",
       "    }\n",
       "\n",
       "    .dataframe thead th {\n",
       "        text-align: right;\n",
       "    }\n",
       "</style>\n",
       "<table border=\"1\" class=\"dataframe\">\n",
       "  <thead>\n",
       "    <tr style=\"text-align: right;\">\n",
       "      <th></th>\n",
       "      <th>NUM TDA</th>\n",
       "      <th>NOMBRE DE TDA</th>\n",
       "      <th>CADENA</th>\n",
       "      <th>FORMATO</th>\n",
       "      <th>ESTADO</th>\n",
       "      <th>DIVISION</th>\n",
       "    </tr>\n",
       "  </thead>\n",
       "  <tbody>\n",
       "    <tr>\n",
       "      <th>0</th>\n",
       "      <td>2</td>\n",
       "      <td>Bloody Sea Green BookShop</td>\n",
       "      <td>1</td>\n",
       "      <td>Shop</td>\n",
       "      <td>Coalmar</td>\n",
       "      <td>SURESTE</td>\n",
       "    </tr>\n",
       "    <tr>\n",
       "      <th>1</th>\n",
       "      <td>4</td>\n",
       "      <td>Funny Sky Blue GipsyTrade</td>\n",
       "      <td>1</td>\n",
       "      <td>Shop</td>\n",
       "      <td>Coalmar</td>\n",
       "      <td>SURESTE</td>\n",
       "    </tr>\n",
       "    <tr>\n",
       "      <th>2</th>\n",
       "      <td>5</td>\n",
       "      <td>Rare Green Laundrette</td>\n",
       "      <td>1</td>\n",
       "      <td>Shop</td>\n",
       "      <td>Coalmar</td>\n",
       "      <td>SURESTE</td>\n",
       "    </tr>\n",
       "    <tr>\n",
       "      <th>3</th>\n",
       "      <td>6</td>\n",
       "      <td>Angry Indigo Center</td>\n",
       "      <td>1</td>\n",
       "      <td>Shop</td>\n",
       "      <td>Coalmar</td>\n",
       "      <td>SURESTE</td>\n",
       "    </tr>\n",
       "    <tr>\n",
       "      <th>4</th>\n",
       "      <td>7</td>\n",
       "      <td>Tall Violet Deli</td>\n",
       "      <td>1</td>\n",
       "      <td>Shop</td>\n",
       "      <td>Coalmar</td>\n",
       "      <td>SURESTE</td>\n",
       "    </tr>\n",
       "  </tbody>\n",
       "</table>\n",
       "</div>"
      ],
      "text/plain": [
       "   NUM TDA              NOMBRE DE TDA CADENA FORMATO   ESTADO DIVISION\n",
       "0        2  Bloody Sea Green BookShop      1    Shop  Coalmar  SURESTE\n",
       "1        4  Funny Sky Blue GipsyTrade      1    Shop  Coalmar  SURESTE\n",
       "2        5      Rare Green Laundrette      1    Shop  Coalmar  SURESTE\n",
       "3        6        Angry Indigo Center      1    Shop  Coalmar  SURESTE\n",
       "4        7           Tall Violet Deli      1    Shop  Coalmar  SURESTE"
      ]
     },
     "execution_count": 171,
     "metadata": {},
     "output_type": "execute_result"
    }
   ],
   "source": [
    "clientes['CADENA'] = clientes['CADENA'].astype(str).str[-1]\n",
    "clientes.drop(columns=['Unnamed: 0'], inplace=True)\n",
    "clientes.head()"
   ]
  },
  {
   "cell_type": "raw",
   "id": "274b9ba9-7032-46ed-a348-46a88457e9cf",
   "metadata": {},
   "source": [
    "En estos últimos dos pasos eliminé la primer columna que no tiene importancia para ningún análisis y en la columna 'CADENA' dejé solaemnte el número de proveedor, en lo personal prefiero trabajarlo así si lo único que va a cambiar es el número."
   ]
  },
  {
   "cell_type": "markdown",
   "id": "0f017268-f199-4efa-97fa-f0ca0e4835a4",
   "metadata": {},
   "source": [
    "#### Observaciones productos\n"
   ]
  },
  {
   "cell_type": "code",
   "execution_count": 173,
   "id": "3d05ccef-631a-4df9-b0e9-ab765a589ecd",
   "metadata": {},
   "outputs": [
    {
     "name": "stdout",
     "output_type": "stream",
     "text": [
      "   Unnamed: 0    Sku      Sku_Description   Sku_Category Sku_Subcategory\n",
      "0           0  11058       Frosted Mango      Sugar-free     Cereal bars\n",
      "1           1  29207  Nut Cheerios Mango   Super-flavour      Cereal box\n",
      "2           2  38379    MultiGrain Mango      Sugar-free     Cereal bars\n",
      "3           3  42671        Crunch Mango      Sugar-free     Cereal bars\n",
      "4           4  54644          Corn Mango      Sugar-free     Cereal bars\n"
     ]
    }
   ],
   "source": [
    "print(productos.head())"
   ]
  },
  {
   "cell_type": "code",
   "execution_count": 174,
   "id": "f2a58c0e-6d8b-49de-9918-fb3535ae12ea",
   "metadata": {},
   "outputs": [
    {
     "name": "stdout",
     "output_type": "stream",
     "text": [
      "['Sugar-free' 'Super-flavour'] \n",
      " ['Cereal bars' 'Cereal box' 'LECHES UHT'] \n",
      "\n"
     ]
    }
   ],
   "source": [
    "print(\n",
    "productos['Sku_Category'].unique(),\"\\n\",\n",
    "productos['Sku_Subcategory'].unique(),\"\\n\"\n",
    ")"
   ]
  },
  {
   "cell_type": "code",
   "execution_count": 175,
   "id": "8a9af830-1292-4266-9444-ee45abd286f3",
   "metadata": {},
   "outputs": [
    {
     "data": {
      "text/plain": [
       "(array([   11058,    29207,    38379, ..., 12409217, 12419224, 12420091],\n",
       "       shape=(1242,)),\n",
       " 1242)"
      ]
     },
     "execution_count": 175,
     "metadata": {},
     "output_type": "execute_result"
    }
   ],
   "source": [
    "productos['Sku'].unique(), len(productos)"
   ]
  },
  {
   "cell_type": "code",
   "execution_count": 176,
   "id": "c2c72733-6152-4ccf-9e17-9f1163d97c58",
   "metadata": {},
   "outputs": [
    {
     "data": {
      "text/html": [
       "<div>\n",
       "<style scoped>\n",
       "    .dataframe tbody tr th:only-of-type {\n",
       "        vertical-align: middle;\n",
       "    }\n",
       "\n",
       "    .dataframe tbody tr th {\n",
       "        vertical-align: top;\n",
       "    }\n",
       "\n",
       "    .dataframe thead th {\n",
       "        text-align: right;\n",
       "    }\n",
       "</style>\n",
       "<table border=\"1\" class=\"dataframe\">\n",
       "  <thead>\n",
       "    <tr style=\"text-align: right;\">\n",
       "      <th></th>\n",
       "      <th>Sku</th>\n",
       "      <th>Sku_Description</th>\n",
       "      <th>Sku_Category</th>\n",
       "      <th>Sku_Subcategory</th>\n",
       "    </tr>\n",
       "  </thead>\n",
       "  <tbody>\n",
       "    <tr>\n",
       "      <th>0</th>\n",
       "      <td>11058</td>\n",
       "      <td>Frosted Mango</td>\n",
       "      <td>Sugar-free</td>\n",
       "      <td>Cereal bars</td>\n",
       "    </tr>\n",
       "    <tr>\n",
       "      <th>1</th>\n",
       "      <td>29207</td>\n",
       "      <td>Nut Cheerios Mango</td>\n",
       "      <td>Super-flavour</td>\n",
       "      <td>Cereal box</td>\n",
       "    </tr>\n",
       "    <tr>\n",
       "      <th>2</th>\n",
       "      <td>38379</td>\n",
       "      <td>MultiGrain Mango</td>\n",
       "      <td>Sugar-free</td>\n",
       "      <td>Cereal bars</td>\n",
       "    </tr>\n",
       "    <tr>\n",
       "      <th>3</th>\n",
       "      <td>42671</td>\n",
       "      <td>Crunch Mango</td>\n",
       "      <td>Sugar-free</td>\n",
       "      <td>Cereal bars</td>\n",
       "    </tr>\n",
       "    <tr>\n",
       "      <th>4</th>\n",
       "      <td>54644</td>\n",
       "      <td>Corn Mango</td>\n",
       "      <td>Sugar-free</td>\n",
       "      <td>Cereal bars</td>\n",
       "    </tr>\n",
       "  </tbody>\n",
       "</table>\n",
       "</div>"
      ],
      "text/plain": [
       "     Sku      Sku_Description   Sku_Category Sku_Subcategory\n",
       "0  11058       Frosted Mango      Sugar-free     Cereal bars\n",
       "1  29207  Nut Cheerios Mango   Super-flavour      Cereal box\n",
       "2  38379    MultiGrain Mango      Sugar-free     Cereal bars\n",
       "3  42671        Crunch Mango      Sugar-free     Cereal bars\n",
       "4  54644          Corn Mango      Sugar-free     Cereal bars"
      ]
     },
     "execution_count": 176,
     "metadata": {},
     "output_type": "execute_result"
    }
   ],
   "source": [
    "productos.drop(productos.columns[0], axis=1, inplace=True)\n",
    "productos.head()"
   ]
  },
  {
   "cell_type": "raw",
   "id": "c38a911a-e3ce-45d9-bb26-b9028e01cc65",
   "metadata": {},
   "source": [
    "Parece que las variables categóricas están bien al igual que la variable 'Sku' que es una llave identificadora para cada producto.\n",
    "Por tanto la primera columna carece de importancia para algún análisis y la elimino.\n",
    "Qué significa Sku?\n",
    "Respuesta: Es la unidad de venta más pequeña. El SKU es un código"
   ]
  },
  {
   "cell_type": "markdown",
   "id": "b89c3811-d8b3-4a52-9f0b-f0436a2b5cd6",
   "metadata": {},
   "source": [
    "#### Observaciones proveedor1"
   ]
  },
  {
   "cell_type": "code",
   "execution_count": 177,
   "id": "714276e3-4788-42d8-81c0-14e0f28cb7b6",
   "metadata": {},
   "outputs": [
    {
     "data": {
      "text/html": [
       "<div>\n",
       "<style scoped>\n",
       "    .dataframe tbody tr th:only-of-type {\n",
       "        vertical-align: middle;\n",
       "    }\n",
       "\n",
       "    .dataframe tbody tr th {\n",
       "        vertical-align: top;\n",
       "    }\n",
       "\n",
       "    .dataframe thead th {\n",
       "        text-align: right;\n",
       "    }\n",
       "</style>\n",
       "<table border=\"1\" class=\"dataframe\">\n",
       "  <thead>\n",
       "    <tr style=\"text-align: right;\">\n",
       "      <th></th>\n",
       "      <th>Sku</th>\n",
       "      <th>Date</th>\n",
       "      <th>Store_Id</th>\n",
       "      <th>Units</th>\n",
       "      <th>Price</th>\n",
       "    </tr>\n",
       "  </thead>\n",
       "  <tbody>\n",
       "    <tr>\n",
       "      <th>0</th>\n",
       "      <td>4220015</td>\n",
       "      <td>2017-01-01</td>\n",
       "      <td>18</td>\n",
       "      <td>6.0</td>\n",
       "      <td>15.6</td>\n",
       "    </tr>\n",
       "    <tr>\n",
       "      <th>1</th>\n",
       "      <td>4220015</td>\n",
       "      <td>2017-01-01</td>\n",
       "      <td>24</td>\n",
       "      <td>0.0</td>\n",
       "      <td>0.0</td>\n",
       "    </tr>\n",
       "    <tr>\n",
       "      <th>2</th>\n",
       "      <td>4220015</td>\n",
       "      <td>2017-01-01</td>\n",
       "      <td>39</td>\n",
       "      <td>0.0</td>\n",
       "      <td>0.0</td>\n",
       "    </tr>\n",
       "    <tr>\n",
       "      <th>3</th>\n",
       "      <td>4220015</td>\n",
       "      <td>2017-01-01</td>\n",
       "      <td>44</td>\n",
       "      <td>0.0</td>\n",
       "      <td>0.0</td>\n",
       "    </tr>\n",
       "    <tr>\n",
       "      <th>4</th>\n",
       "      <td>4220015</td>\n",
       "      <td>2017-01-01</td>\n",
       "      <td>46</td>\n",
       "      <td>0.0</td>\n",
       "      <td>0.0</td>\n",
       "    </tr>\n",
       "  </tbody>\n",
       "</table>\n",
       "</div>"
      ],
      "text/plain": [
       "       Sku       Date  Store_Id  Units  Price\n",
       "0  4220015 2017-01-01        18    6.0   15.6\n",
       "1  4220015 2017-01-01        24    0.0    0.0\n",
       "2  4220015 2017-01-01        39    0.0    0.0\n",
       "3  4220015 2017-01-01        44    0.0    0.0\n",
       "4  4220015 2017-01-01        46    0.0    0.0"
      ]
     },
     "execution_count": 177,
     "metadata": {},
     "output_type": "execute_result"
    }
   ],
   "source": [
    "proveedor1['Date'] = pd.to_datetime(proveedor1['Date'].str.split(' ').str[0], format='%Y-%m-%d')\n",
    "proveedor1.head()"
   ]
  },
  {
   "cell_type": "raw",
   "id": "30b16d97-7d22-4b87-bf78-a648e5e5954d",
   "metadata": {},
   "source": [
    "Cambiaría el formato de fecha que tiene para que sea más fácil de interpretar y luego corroboraría que son diarias las observaciones de cada producto"
   ]
  },
  {
   "cell_type": "raw",
   "id": "5baa3b11-d554-401c-a884-748fa0722d97",
   "metadata": {},
   "source": [
    "De momento, estaría ok con la limpieza de esta tabla"
   ]
  },
  {
   "cell_type": "markdown",
   "id": "7c0041af-1803-41a2-877b-7f8d1e73396c",
   "metadata": {},
   "source": [
    "### Observaciones proveedor2"
   ]
  },
  {
   "cell_type": "raw",
   "id": "7bcc9c32-1c5f-4d3b-a305-5eceb1297f28",
   "metadata": {},
   "source": [
    "En el archivo proveedor2, la columna Price no es de tipo float por el signo \"$\", así que lo elimino para poder hacer análisis de esta variable numérica y no de texto."
   ]
  },
  {
   "cell_type": "code",
   "execution_count": 178,
   "id": "542c231f-66ce-4bfa-8561-7b4b7184c7aa",
   "metadata": {},
   "outputs": [
    {
     "name": "stdout",
     "output_type": "stream",
     "text": [
      "       Sku        Date  Store_Id  Pieces   Price\n",
      "0  4240039  2016/01/01      1000    23.0  $16.00\n",
      "1  4240039  2016/01/01      1001   116.0  $16.00\n",
      "2  4240039  2016/01/01      1002   146.0  $16.00\n",
      "3  4240039  2016/01/01      1003    17.0  $16.80\n",
      "4  4240039  2016/01/01      1004     5.0  $16.70\n"
     ]
    }
   ],
   "source": [
    "print(proveedor2.head())"
   ]
  },
  {
   "cell_type": "code",
   "execution_count": 179,
   "id": "02ff2ed6-d2b6-4006-8f94-a880b7738d39",
   "metadata": {},
   "outputs": [
    {
     "name": "stdout",
     "output_type": "stream",
     "text": [
      "0    16.0\n",
      "1    16.0\n",
      "2    16.0\n",
      "3    16.8\n",
      "4    16.7\n",
      "Name: Price, dtype: float64\n"
     ]
    }
   ],
   "source": [
    "proveedor2['Price'] = proveedor2['Price'].str.replace('$', '', regex=False).astype(float)\n",
    "\n",
    "print(proveedor2['Price'].head())"
   ]
  },
  {
   "cell_type": "code",
   "execution_count": 180,
   "id": "d44b5ea8-80ee-455c-b166-26aabcf9d7a1",
   "metadata": {},
   "outputs": [
    {
     "data": {
      "text/html": [
       "<div>\n",
       "<style scoped>\n",
       "    .dataframe tbody tr th:only-of-type {\n",
       "        vertical-align: middle;\n",
       "    }\n",
       "\n",
       "    .dataframe tbody tr th {\n",
       "        vertical-align: top;\n",
       "    }\n",
       "\n",
       "    .dataframe thead th {\n",
       "        text-align: right;\n",
       "    }\n",
       "</style>\n",
       "<table border=\"1\" class=\"dataframe\">\n",
       "  <thead>\n",
       "    <tr style=\"text-align: right;\">\n",
       "      <th></th>\n",
       "      <th>Sku</th>\n",
       "      <th>Date</th>\n",
       "      <th>Store_Id</th>\n",
       "      <th>Units</th>\n",
       "      <th>Price</th>\n",
       "    </tr>\n",
       "  </thead>\n",
       "  <tbody>\n",
       "    <tr>\n",
       "      <th>0</th>\n",
       "      <td>4240039</td>\n",
       "      <td>2016-01-01</td>\n",
       "      <td>1000</td>\n",
       "      <td>23.0</td>\n",
       "      <td>16.0</td>\n",
       "    </tr>\n",
       "    <tr>\n",
       "      <th>1</th>\n",
       "      <td>4240039</td>\n",
       "      <td>2016-01-01</td>\n",
       "      <td>1001</td>\n",
       "      <td>116.0</td>\n",
       "      <td>16.0</td>\n",
       "    </tr>\n",
       "    <tr>\n",
       "      <th>2</th>\n",
       "      <td>4240039</td>\n",
       "      <td>2016-01-01</td>\n",
       "      <td>1002</td>\n",
       "      <td>146.0</td>\n",
       "      <td>16.0</td>\n",
       "    </tr>\n",
       "    <tr>\n",
       "      <th>3</th>\n",
       "      <td>4240039</td>\n",
       "      <td>2016-01-01</td>\n",
       "      <td>1003</td>\n",
       "      <td>17.0</td>\n",
       "      <td>16.8</td>\n",
       "    </tr>\n",
       "    <tr>\n",
       "      <th>4</th>\n",
       "      <td>4240039</td>\n",
       "      <td>2016-01-01</td>\n",
       "      <td>1004</td>\n",
       "      <td>5.0</td>\n",
       "      <td>16.7</td>\n",
       "    </tr>\n",
       "  </tbody>\n",
       "</table>\n",
       "</div>"
      ],
      "text/plain": [
       "       Sku       Date  Store_Id  Units  Price\n",
       "0  4240039 2016-01-01      1000   23.0   16.0\n",
       "1  4240039 2016-01-01      1001  116.0   16.0\n",
       "2  4240039 2016-01-01      1002  146.0   16.0\n",
       "3  4240039 2016-01-01      1003   17.0   16.8\n",
       "4  4240039 2016-01-01      1004    5.0   16.7"
      ]
     },
     "execution_count": 180,
     "metadata": {},
     "output_type": "execute_result"
    }
   ],
   "source": [
    "proveedor2['Date'].dtype \n",
    "proveedor2['Date'] = pd.to_datetime(proveedor2['Date'])\n",
    "proveedor2.rename(columns={'Pieces': 'Units'}, inplace=True)\n",
    "\n",
    "proveedor2.head()"
   ]
  },
  {
   "cell_type": "raw",
   "id": "f1ec8d4d-90e1-4c42-a40a-cd66ddd9cf0b",
   "metadata": {},
   "source": [
    "Cambio la variable Date de string para facilitar el análisis y renombro la variable Units para tener consistencia entre ambas tablas de proveedores, y de momento igual estaría ok con la limpieza"
   ]
  },
  {
   "cell_type": "markdown",
   "id": "662090f8-5224-4c46-86c2-7991eaadc915",
   "metadata": {},
   "source": [
    "## Validaciones"
   ]
  },
  {
   "cell_type": "raw",
   "id": "16d679fb-aa92-4446-86e9-843e0bdb0452",
   "metadata": {},
   "source": [
    "Primero, que todos los productos en proveedor1 y proveedor2 estén en productos"
   ]
  },
  {
   "cell_type": "code",
   "execution_count": 200,
   "id": "39089a7a-5efa-467e-af37-6daeda0b2499",
   "metadata": {},
   "outputs": [
    {
     "data": {
      "text/html": [
       "<div>\n",
       "<style scoped>\n",
       "    .dataframe tbody tr th:only-of-type {\n",
       "        vertical-align: middle;\n",
       "    }\n",
       "\n",
       "    .dataframe tbody tr th {\n",
       "        vertical-align: top;\n",
       "    }\n",
       "\n",
       "    .dataframe thead th {\n",
       "        text-align: right;\n",
       "    }\n",
       "</style>\n",
       "<table border=\"1\" class=\"dataframe\">\n",
       "  <thead>\n",
       "    <tr style=\"text-align: right;\">\n",
       "      <th></th>\n",
       "      <th>Sku</th>\n",
       "      <th>Date</th>\n",
       "      <th>Store_Id</th>\n",
       "      <th>Units</th>\n",
       "      <th>Price</th>\n",
       "    </tr>\n",
       "  </thead>\n",
       "  <tbody>\n",
       "    <tr>\n",
       "      <th>0</th>\n",
       "      <td>4220015</td>\n",
       "      <td>2017-01-01</td>\n",
       "      <td>18</td>\n",
       "      <td>6.0</td>\n",
       "      <td>15.6</td>\n",
       "    </tr>\n",
       "    <tr>\n",
       "      <th>1</th>\n",
       "      <td>4220015</td>\n",
       "      <td>2017-01-01</td>\n",
       "      <td>24</td>\n",
       "      <td>0.0</td>\n",
       "      <td>0.0</td>\n",
       "    </tr>\n",
       "    <tr>\n",
       "      <th>2</th>\n",
       "      <td>4220015</td>\n",
       "      <td>2017-01-01</td>\n",
       "      <td>39</td>\n",
       "      <td>0.0</td>\n",
       "      <td>0.0</td>\n",
       "    </tr>\n",
       "    <tr>\n",
       "      <th>3</th>\n",
       "      <td>4220015</td>\n",
       "      <td>2017-01-01</td>\n",
       "      <td>44</td>\n",
       "      <td>0.0</td>\n",
       "      <td>0.0</td>\n",
       "    </tr>\n",
       "    <tr>\n",
       "      <th>4</th>\n",
       "      <td>4220015</td>\n",
       "      <td>2017-01-01</td>\n",
       "      <td>46</td>\n",
       "      <td>0.0</td>\n",
       "      <td>0.0</td>\n",
       "    </tr>\n",
       "  </tbody>\n",
       "</table>\n",
       "</div>"
      ],
      "text/plain": [
       "       Sku       Date  Store_Id  Units  Price\n",
       "0  4220015 2017-01-01        18    6.0   15.6\n",
       "1  4220015 2017-01-01        24    0.0    0.0\n",
       "2  4220015 2017-01-01        39    0.0    0.0\n",
       "3  4220015 2017-01-01        44    0.0    0.0\n",
       "4  4220015 2017-01-01        46    0.0    0.0"
      ]
     },
     "execution_count": 200,
     "metadata": {},
     "output_type": "execute_result"
    }
   ],
   "source": [
    "proveedor1.head()"
   ]
  },
  {
   "cell_type": "code",
   "execution_count": 182,
   "id": "eddf1cbe-b6e0-4ab9-bb89-0a5190d9d954",
   "metadata": {},
   "outputs": [
    {
     "data": {
      "text/plain": [
       "({np.int64(5027)}, set())"
      ]
     },
     "execution_count": 182,
     "metadata": {},
     "output_type": "execute_result"
    }
   ],
   "source": [
    "skus_proveedor1 = proveedor1['Sku'].unique()\n",
    "skus_proveedor2 = proveedor2['Sku'].unique()\n",
    "skus_productos = productos['Sku'].unique()\n",
    "\n",
    "missing_proveedor1 = set(skus_proveedor1) - set(skus_productos)\n",
    "missing_proveedor2 = set(skus_proveedor2) - set(skus_productos)\n",
    "\n",
    "missing_proveedor1, missing_proveedor2"
   ]
  },
  {
   "cell_type": "raw",
   "id": "6aa295e2-32c1-4072-a8f9-15b133537bf9",
   "metadata": {},
   "source": [
    "No tenemos info del SKU 5027 en la tabla productos, SKU que se encuentra en el archivo del proveedor1"
   ]
  },
  {
   "cell_type": "raw",
   "id": "ee0fac79-6272-459b-9cdb-cbebdd3ce497",
   "metadata": {},
   "source": [
    "Ahora, revisar que las tiendas en los archivos de proveedores estén en el catálogo de clientes"
   ]
  },
  {
   "cell_type": "code",
   "execution_count": 183,
   "id": "2cfafeb0-d8b0-4461-a73d-3e15da6b714a",
   "metadata": {},
   "outputs": [
    {
     "name": "stdout",
     "output_type": "stream",
     "text": [
      "{np.int64(675), np.int64(676), np.int64(709), np.int64(711), np.int64(712), np.int64(681), np.int64(301), np.int64(174), np.int64(78), np.int64(94)} \n",
      " set()\n"
     ]
    }
   ],
   "source": [
    "tiendas_proveedor1 = proveedor1['Store_Id'].unique()\n",
    "tiendas_proveedor2 = proveedor2['Store_Id'].unique()\n",
    "tiendas_clientes = clientes['NUM TDA'].unique()\n",
    "\n",
    "missing_proveedor1 = set(tiendas_proveedor1) - set(tiendas_clientes)\n",
    "missing_proveedor2 = set(tiendas_proveedor2) - set(tiendas_clientes)\n",
    "\n",
    "print(missing_proveedor1, \"\\n\", missing_proveedor2)"
   ]
  },
  {
   "cell_type": "raw",
   "id": "8f663db1-8871-4a88-9abb-6ad6469b0210",
   "metadata": {},
   "source": [
    "No tenemos info de las tiendas con NUM TDA 675, 676, 709, 711, 712, 681, 301, 174, 78, 94 en el catálogo. Todas correspondientes al archivo proveedor1"
   ]
  },
  {
   "cell_type": "raw",
   "id": "978c5efb-5359-497d-9223-94c697768ec3",
   "metadata": {},
   "source": [
    "Verificaré que entre ambos archivos, se cubran ventas para todos los productos del catálogo"
   ]
  },
  {
   "cell_type": "code",
   "execution_count": 187,
   "id": "0da57eb5-2f7e-42e0-acb8-1f37f2289d03",
   "metadata": {},
   "outputs": [
    {
     "name": "stdout",
     "output_type": "stream",
     "text": [
      "1195 48 43 33\n"
     ]
    }
   ],
   "source": [
    "SKU_ventas = set(proveedor1['Sku'].unique()).union(set(proveedor2['Sku'].unique()))\n",
    "SKU_sin_ventas = set(productos['Sku'].unique()) - SKU_ventas\n",
    "\n",
    "print( len(SKU_sin_ventas), len(SKU_ventas), len(proveedor1['Sku'].unique()), len(proveedor2['Sku'].unique()))"
   ]
  },
  {
   "cell_type": "raw",
   "id": "612b24e3-aa30-4dfe-a587-3437c6cab662",
   "metadata": {},
   "source": [
    "Parece que de los  1242 productos, solamente hay info de 48 productos"
   ]
  },
  {
   "cell_type": "raw",
   "id": "3a168635-ea9d-42c6-abe5-d67598826acd",
   "metadata": {},
   "source": [
    "Verificaré ahora que se cubran ventas para ambos al rededor de la República"
   ]
  },
  {
   "cell_type": "code",
   "execution_count": 193,
   "id": "8277b7da-c5ec-4178-85e4-d36b18c0d17c",
   "metadata": {},
   "outputs": [
    {
     "data": {
      "text/plain": [
       "set()"
      ]
     },
     "execution_count": 193,
     "metadata": {},
     "output_type": "execute_result"
    }
   ],
   "source": [
    "divisiones_con_ventas = set(clientes[clientes['NUM TDA'].isin(tiendas_proveedor1)]['DIVISION'].unique()).union(\n",
    "    set(clientes[clientes['NUM TDA'].isin(tiendas_proveedor2)]['DIVISION'].unique()))\n",
    "divisiones_sin_ventas = set(clientes['DIVISION'].unique()) - divisiones_con_ventas\n",
    "\n",
    "divisiones_sin_ventas"
   ]
  },
  {
   "cell_type": "raw",
   "id": "9094486d-66d2-49c2-b1c7-b4f90b865ec6",
   "metadata": {},
   "source": [
    "Parece que sí hay info de todas las divisiones de la República en los archivos de proveedores"
   ]
  },
  {
   "cell_type": "raw",
   "id": "f5a43ec2-1600-4b0c-b5a7-436dc3352f1c",
   "metadata": {},
   "source": [
    "Por último, hay que verificar que los datos de los productos con ventas cubren datos diarios para los productos"
   ]
  },
  {
   "cell_type": "code",
   "execution_count": 241,
   "id": "8c9c2af4-ef90-4c02-bee1-7f607711acda",
   "metadata": {},
   "outputs": [],
   "source": [
    "# Obtengo fechas únicas\n",
    "# productos_unicos = productos['Sku'].unique()\n",
    "\n",
    "fechas = pd.date_range(start=proveedor1['Date'].min(), end=proveedor1['Date'].max(), freq='D')\n",
    "\n",
    "# Combinaciones posibles de Sku con ventas y Date\n",
    "combinaciones_completas = pd.MultiIndex.from_product([SKU_ventas, fechas], names=['Sku', 'Date']).to_frame(index=False)"
   ]
  },
  {
   "cell_type": "code",
   "execution_count": 263,
   "id": "a28b3541-5710-4795-b88e-8ba118ff2b95",
   "metadata": {},
   "outputs": [],
   "source": [
    "# Combinamos los datos de ventas de ambos proveedores\n",
    "ventas_totales = pd.concat([proveedor1[['Sku', 'Date', 'Units']], proveedor2[['Sku', 'Date', 'Units']]])\n",
    "\n",
    "# Unimos las combinaciones de productos y fechas con los datos de ventas en archivos de proveedores\n",
    "registros_completos = combinaciones_completas.merge(ventas_totales, on=['Sku', 'Date'], how='left')"
   ]
  },
  {
   "cell_type": "code",
   "execution_count": 272,
   "id": "88ca73fb-4251-4701-acee-55687853587c",
   "metadata": {},
   "outputs": [
    {
     "data": {
      "text/html": [
       "<div>\n",
       "<style scoped>\n",
       "    .dataframe tbody tr th:only-of-type {\n",
       "        vertical-align: middle;\n",
       "    }\n",
       "\n",
       "    .dataframe tbody tr th {\n",
       "        vertical-align: top;\n",
       "    }\n",
       "\n",
       "    .dataframe thead th {\n",
       "        text-align: right;\n",
       "    }\n",
       "</style>\n",
       "<table border=\"1\" class=\"dataframe\">\n",
       "  <thead>\n",
       "    <tr style=\"text-align: right;\">\n",
       "      <th></th>\n",
       "      <th>Sku</th>\n",
       "      <th>Dias_con_info</th>\n",
       "      <th>completa</th>\n",
       "    </tr>\n",
       "  </thead>\n",
       "  <tbody>\n",
       "    <tr>\n",
       "      <th>0</th>\n",
       "      <td>5027</td>\n",
       "      <td>155</td>\n",
       "      <td>True</td>\n",
       "    </tr>\n",
       "    <tr>\n",
       "      <th>1</th>\n",
       "      <td>4220015</td>\n",
       "      <td>155</td>\n",
       "      <td>True</td>\n",
       "    </tr>\n",
       "    <tr>\n",
       "      <th>2</th>\n",
       "      <td>4230022</td>\n",
       "      <td>155</td>\n",
       "      <td>True</td>\n",
       "    </tr>\n",
       "    <tr>\n",
       "      <th>3</th>\n",
       "      <td>4240039</td>\n",
       "      <td>155</td>\n",
       "      <td>True</td>\n",
       "    </tr>\n",
       "    <tr>\n",
       "      <th>4</th>\n",
       "      <td>4250046</td>\n",
       "      <td>155</td>\n",
       "      <td>True</td>\n",
       "    </tr>\n",
       "    <tr>\n",
       "      <th>5</th>\n",
       "      <td>4260053</td>\n",
       "      <td>155</td>\n",
       "      <td>True</td>\n",
       "    </tr>\n",
       "    <tr>\n",
       "      <th>6</th>\n",
       "      <td>4270121</td>\n",
       "      <td>155</td>\n",
       "      <td>True</td>\n",
       "    </tr>\n",
       "    <tr>\n",
       "      <th>7</th>\n",
       "      <td>4290336</td>\n",
       "      <td>155</td>\n",
       "      <td>True</td>\n",
       "    </tr>\n",
       "    <tr>\n",
       "      <th>8</th>\n",
       "      <td>4300343</td>\n",
       "      <td>155</td>\n",
       "      <td>True</td>\n",
       "    </tr>\n",
       "    <tr>\n",
       "      <th>9</th>\n",
       "      <td>4330800</td>\n",
       "      <td>155</td>\n",
       "      <td>True</td>\n",
       "    </tr>\n",
       "    <tr>\n",
       "      <th>10</th>\n",
       "      <td>4351043</td>\n",
       "      <td>155</td>\n",
       "      <td>True</td>\n",
       "    </tr>\n",
       "    <tr>\n",
       "      <th>11</th>\n",
       "      <td>4361050</td>\n",
       "      <td>155</td>\n",
       "      <td>True</td>\n",
       "    </tr>\n",
       "    <tr>\n",
       "      <th>12</th>\n",
       "      <td>4371364</td>\n",
       "      <td>155</td>\n",
       "      <td>True</td>\n",
       "    </tr>\n",
       "    <tr>\n",
       "      <th>13</th>\n",
       "      <td>4381425</td>\n",
       "      <td>155</td>\n",
       "      <td>True</td>\n",
       "    </tr>\n",
       "    <tr>\n",
       "      <th>14</th>\n",
       "      <td>4391449</td>\n",
       "      <td>155</td>\n",
       "      <td>True</td>\n",
       "    </tr>\n",
       "    <tr>\n",
       "      <th>15</th>\n",
       "      <td>4412040</td>\n",
       "      <td>155</td>\n",
       "      <td>True</td>\n",
       "    </tr>\n",
       "    <tr>\n",
       "      <th>16</th>\n",
       "      <td>4422187</td>\n",
       "      <td>155</td>\n",
       "      <td>True</td>\n",
       "    </tr>\n",
       "    <tr>\n",
       "      <th>17</th>\n",
       "      <td>4432194</td>\n",
       "      <td>155</td>\n",
       "      <td>True</td>\n",
       "    </tr>\n",
       "    <tr>\n",
       "      <th>18</th>\n",
       "      <td>4442378</td>\n",
       "      <td>155</td>\n",
       "      <td>True</td>\n",
       "    </tr>\n",
       "    <tr>\n",
       "      <th>19</th>\n",
       "      <td>4473122</td>\n",
       "      <td>155</td>\n",
       "      <td>True</td>\n",
       "    </tr>\n",
       "    <tr>\n",
       "      <th>20</th>\n",
       "      <td>4523924</td>\n",
       "      <td>155</td>\n",
       "      <td>True</td>\n",
       "    </tr>\n",
       "    <tr>\n",
       "      <th>21</th>\n",
       "      <td>4533931</td>\n",
       "      <td>155</td>\n",
       "      <td>True</td>\n",
       "    </tr>\n",
       "    <tr>\n",
       "      <th>22</th>\n",
       "      <td>4543948</td>\n",
       "      <td>155</td>\n",
       "      <td>True</td>\n",
       "    </tr>\n",
       "    <tr>\n",
       "      <th>23</th>\n",
       "      <td>4554143</td>\n",
       "      <td>155</td>\n",
       "      <td>True</td>\n",
       "    </tr>\n",
       "    <tr>\n",
       "      <th>24</th>\n",
       "      <td>4574433</td>\n",
       "      <td>155</td>\n",
       "      <td>True</td>\n",
       "    </tr>\n",
       "    <tr>\n",
       "      <th>25</th>\n",
       "      <td>4584464</td>\n",
       "      <td>155</td>\n",
       "      <td>True</td>\n",
       "    </tr>\n",
       "    <tr>\n",
       "      <th>26</th>\n",
       "      <td>4604976</td>\n",
       "      <td>155</td>\n",
       "      <td>True</td>\n",
       "    </tr>\n",
       "    <tr>\n",
       "      <th>27</th>\n",
       "      <td>4615034</td>\n",
       "      <td>155</td>\n",
       "      <td>True</td>\n",
       "    </tr>\n",
       "    <tr>\n",
       "      <th>28</th>\n",
       "      <td>4625287</td>\n",
       "      <td>155</td>\n",
       "      <td>True</td>\n",
       "    </tr>\n",
       "    <tr>\n",
       "      <th>29</th>\n",
       "      <td>4635546</td>\n",
       "      <td>155</td>\n",
       "      <td>True</td>\n",
       "    </tr>\n",
       "    <tr>\n",
       "      <th>30</th>\n",
       "      <td>4645560</td>\n",
       "      <td>155</td>\n",
       "      <td>True</td>\n",
       "    </tr>\n",
       "    <tr>\n",
       "      <th>31</th>\n",
       "      <td>4655669</td>\n",
       "      <td>155</td>\n",
       "      <td>True</td>\n",
       "    </tr>\n",
       "    <tr>\n",
       "      <th>32</th>\n",
       "      <td>4665676</td>\n",
       "      <td>155</td>\n",
       "      <td>True</td>\n",
       "    </tr>\n",
       "    <tr>\n",
       "      <th>33</th>\n",
       "      <td>4675706</td>\n",
       "      <td>155</td>\n",
       "      <td>True</td>\n",
       "    </tr>\n",
       "    <tr>\n",
       "      <th>34</th>\n",
       "      <td>4685881</td>\n",
       "      <td>155</td>\n",
       "      <td>True</td>\n",
       "    </tr>\n",
       "    <tr>\n",
       "      <th>35</th>\n",
       "      <td>4697052</td>\n",
       "      <td>155</td>\n",
       "      <td>True</td>\n",
       "    </tr>\n",
       "    <tr>\n",
       "      <th>36</th>\n",
       "      <td>4709131</td>\n",
       "      <td>155</td>\n",
       "      <td>True</td>\n",
       "    </tr>\n",
       "    <tr>\n",
       "      <th>37</th>\n",
       "      <td>4719179</td>\n",
       "      <td>155</td>\n",
       "      <td>True</td>\n",
       "    </tr>\n",
       "    <tr>\n",
       "      <th>38</th>\n",
       "      <td>4729193</td>\n",
       "      <td>155</td>\n",
       "      <td>True</td>\n",
       "    </tr>\n",
       "    <tr>\n",
       "      <th>39</th>\n",
       "      <td>4739414</td>\n",
       "      <td>155</td>\n",
       "      <td>True</td>\n",
       "    </tr>\n",
       "    <tr>\n",
       "      <th>40</th>\n",
       "      <td>4749421</td>\n",
       "      <td>155</td>\n",
       "      <td>True</td>\n",
       "    </tr>\n",
       "    <tr>\n",
       "      <th>41</th>\n",
       "      <td>4759438</td>\n",
       "      <td>155</td>\n",
       "      <td>True</td>\n",
       "    </tr>\n",
       "    <tr>\n",
       "      <th>42</th>\n",
       "      <td>4769520</td>\n",
       "      <td>155</td>\n",
       "      <td>True</td>\n",
       "    </tr>\n",
       "    <tr>\n",
       "      <th>43</th>\n",
       "      <td>4779537</td>\n",
       "      <td>155</td>\n",
       "      <td>True</td>\n",
       "    </tr>\n",
       "    <tr>\n",
       "      <th>44</th>\n",
       "      <td>4789544</td>\n",
       "      <td>155</td>\n",
       "      <td>True</td>\n",
       "    </tr>\n",
       "    <tr>\n",
       "      <th>45</th>\n",
       "      <td>4809797</td>\n",
       "      <td>155</td>\n",
       "      <td>True</td>\n",
       "    </tr>\n",
       "    <tr>\n",
       "      <th>46</th>\n",
       "      <td>4819810</td>\n",
       "      <td>155</td>\n",
       "      <td>True</td>\n",
       "    </tr>\n",
       "    <tr>\n",
       "      <th>47</th>\n",
       "      <td>4829827</td>\n",
       "      <td>155</td>\n",
       "      <td>True</td>\n",
       "    </tr>\n",
       "  </tbody>\n",
       "</table>\n",
       "</div>"
      ],
      "text/plain": [
       "        Sku  Dias_con_info  completa\n",
       "0      5027            155      True\n",
       "1   4220015            155      True\n",
       "2   4230022            155      True\n",
       "3   4240039            155      True\n",
       "4   4250046            155      True\n",
       "5   4260053            155      True\n",
       "6   4270121            155      True\n",
       "7   4290336            155      True\n",
       "8   4300343            155      True\n",
       "9   4330800            155      True\n",
       "10  4351043            155      True\n",
       "11  4361050            155      True\n",
       "12  4371364            155      True\n",
       "13  4381425            155      True\n",
       "14  4391449            155      True\n",
       "15  4412040            155      True\n",
       "16  4422187            155      True\n",
       "17  4432194            155      True\n",
       "18  4442378            155      True\n",
       "19  4473122            155      True\n",
       "20  4523924            155      True\n",
       "21  4533931            155      True\n",
       "22  4543948            155      True\n",
       "23  4554143            155      True\n",
       "24  4574433            155      True\n",
       "25  4584464            155      True\n",
       "26  4604976            155      True\n",
       "27  4615034            155      True\n",
       "28  4625287            155      True\n",
       "29  4635546            155      True\n",
       "30  4645560            155      True\n",
       "31  4655669            155      True\n",
       "32  4665676            155      True\n",
       "33  4675706            155      True\n",
       "34  4685881            155      True\n",
       "35  4697052            155      True\n",
       "36  4709131            155      True\n",
       "37  4719179            155      True\n",
       "38  4729193            155      True\n",
       "39  4739414            155      True\n",
       "40  4749421            155      True\n",
       "41  4759438            155      True\n",
       "42  4769520            155      True\n",
       "43  4779537            155      True\n",
       "44  4789544            155      True\n",
       "45  4809797            155      True\n",
       "46  4819810            155      True\n",
       "47  4829827            155      True"
      ]
     },
     "execution_count": 272,
     "metadata": {},
     "output_type": "execute_result"
    }
   ],
   "source": [
    "fecha_min = proveedor1['Date'].min()\n",
    "fecha_max = proveedor1['Date'].max()\n",
    "rango_fechas = pd.date_range(start=fecha_min, end=fecha_max)\n",
    "\n",
    "dias_con_info = registros_completos[registros_completos['Date'].notna()].groupby('Sku')['Date'].nunique().reset_index(name='Dias_con_info')\n",
    "\n",
    "total_dias = len(rango_fechas)\n",
    "dias_con_info['completa'] = dias_con_info['Dias_con_info'] == total_dias\n",
    "dias_con_info\n"
   ]
  },
  {
   "cell_type": "raw",
   "id": "8ebbe21e-674d-4e3d-88f4-4fe986353d0e",
   "metadata": {},
   "source": [
    "Los productos tienen info diaria"
   ]
  }
 ],
 "metadata": {
  "kernelspec": {
   "display_name": "Python 3 (ipykernel)",
   "language": "python",
   "name": "python3"
  },
  "language_info": {
   "codemirror_mode": {
    "name": "ipython",
    "version": 3
   },
   "file_extension": ".py",
   "mimetype": "text/x-python",
   "name": "python",
   "nbconvert_exporter": "python",
   "pygments_lexer": "ipython3",
   "version": "3.12.9"
  }
 },
 "nbformat": 4,
 "nbformat_minor": 5
}
